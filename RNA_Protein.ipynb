{
  "nbformat": 4,
  "nbformat_minor": 0,
  "metadata": {
    "colab": {
      "name": "RNA-Protein.ipynb",
      "provenance": [],
      "collapsed_sections": []
    },
    "kernelspec": {
      "name": "python3",
      "display_name": "Python 3"
    }
  },
  "cells": [
    {
      "cell_type": "code",
      "metadata": {
        "id": "opXp8GC0H2lI",
        "colab": {
          "base_uri": "https://localhost:8080/"
        },
        "outputId": "e7447d22-3b3a-42e3-e96e-bc3d855a2ecd"
      },
      "source": [
        "from google.colab import drive\n",
        "drive.mount('/content/drive')"
      ],
      "execution_count": null,
      "outputs": [
        {
          "output_type": "stream",
          "text": [
            "Mounted at /content/drive\n"
          ],
          "name": "stdout"
        }
      ]
    },
    {
      "cell_type": "code",
      "metadata": {
        "id": "J9Pp6s4atURq"
      },
      "source": [
        "!cp /content/drive/My\\ Drive/Copy\\ of\\ data.zip /content"
      ],
      "execution_count": null,
      "outputs": []
    },
    {
      "cell_type": "code",
      "metadata": {
        "id": "wtcke09Gvn3a"
      },
      "source": [
        "!unzip /content/Copy\\ of\\ data.zip"
      ],
      "execution_count": null,
      "outputs": []
    },
    {
      "cell_type": "code",
      "metadata": {
        "id": "kEodMWw3l8FQ"
      },
      "source": [
        "import os, os.path\n",
        "\n",
        "DIR = '/content/drive/MyDrive/work/RNA/RNADataClasses'\n",
        "ll = len([name for name in os.listdir(DIR) if os.path.isfile(os.path.join(DIR, name))])"
      ],
      "execution_count": null,
      "outputs": []
    },
    {
      "cell_type": "code",
      "metadata": {
        "id": "SxM1flTwxr0K",
        "colab": {
          "base_uri": "https://localhost:8080/"
        },
        "outputId": "2ceec58a-3ab6-493e-c0c6-f0d82156dc1d"
      },
      "source": [
        "ll"
      ],
      "execution_count": null,
      "outputs": [
        {
          "output_type": "execute_result",
          "data": {
            "text/plain": [
              "808"
            ]
          },
          "metadata": {
            "tags": []
          },
          "execution_count": 3
        }
      ]
    },
    {
      "cell_type": "code",
      "metadata": {
        "id": "tFaSCGNRDCHn"
      },
      "source": [
        "import os\n",
        "import pandas as pd\n",
        "\n",
        "#creating directory for modified data\n",
        "dir = os.path.join(\"/content\",\"RNADataClasses\")\n",
        "if not os.path.exists(dir):\n",
        "    os.mkdir(dir)"
      ],
      "execution_count": null,
      "outputs": []
    },
    {
      "cell_type": "code",
      "metadata": {
        "id": "7Z5EzS6GDnHy"
      },
      "source": [
        "#20 aminoacid and 5 Rna bases lists\n",
        "aminoacid = ['ALA','ARG','ASN','ASP','CYS','GLN','GLU','GLY','HIS','ILE','LEU','LYS','MET','PHE','PRO','SER','THR','TRP','TYR','VAL']\n",
        "RNA = ['A','G','C','T','U']\n",
        "acidcount = 3\n",
        "rnacount = 3\n",
        "#Threshold for setting contacts for every pair of residues\n",
        "Threshold = 7\n"
      ],
      "execution_count": null,
      "outputs": []
    },
    {
      "cell_type": "code",
      "metadata": {
        "id": "4VJOuc_xH147"
      },
      "source": [
        "len(os.listdir(directory))"
      ],
      "execution_count": null,
      "outputs": []
    },
    {
      "cell_type": "code",
      "metadata": {
        "id": "PWsbA2LFwYtV"
      },
      "source": [
        "#doing the necessary preprocessing steps to clean up data \n",
        "directory_in_str = '/content/data'\n",
        "directory = os.fsencode(directory_in_str)\n",
        "counter = 0\n",
        "for file in os.listdir(directory)[:404]:\n",
        "     filename = os.fsdecode(file)\n",
        "     sq1 = pd.read_csv('/content/data/{}'.format(filename))\n",
        "     sq1 = sq1.applymap(lambda x: x.strip() if isinstance(x, str) else x)\n",
        "\n",
        "     #extract rna and amino acids sequences to be compared and delete unnecessary data\n",
        "     acidcount = 3\n",
        "     rnacount = 3\n",
        "     rows, coloumns = sq1.shape\n",
        "     A_ACIDS = (sq1['Unnamed: 1'][3: rows+1]).astype(str)\n",
        "     RNAS = (sq1.iloc[0,:][3: coloumns+1]).astype(str)\n",
        "     \n",
        "     #delete coloumns and rows for non-RNA bases and non-aminoacid groups\n",
        "     for a in A_ACIDS:\n",
        "      if str(a).strip() not in str(aminoacid):\n",
        "        sq1.drop([acidcount],inplace=True)\n",
        "      acidcount += 1\n",
        "\n",
        "     for b in RNAS:\n",
        "      if str(b).strip() not in str(RNA):\n",
        "        sq1.drop(sq1.columns[rnacount], axis='columns', inplace= True)\n",
        "        rnacount -=1\n",
        "      rnacount += 1\n",
        "\n",
        "     #combine sequences with their complementary groups , reset indices\n",
        "     sq1['Unnamed: 1'] = sq1['Unnamed: 1'] +'_'+sq1['Unnamed: 2']\n",
        "     sq1.loc[0,:] = sq1.loc[0,:] + sq1.loc[1,:]\n",
        "     sq1.loc[0,:] = sq1.loc[0,:].str.replace(\"'\",'#')\n",
        "     sq1 = sq1.drop(columns=['Unnamed: 2','3'])\n",
        "     sq1 = sq1.drop([1,2])\n",
        "     sq1.reset_index(drop=True, inplace=True) \n",
        "\n",
        "     #convert distances to 1's for smaller than threshold distance and 0's for bigger than threshold distances\n",
        "     col = 1\n",
        "     for column in sq1.columns[1:]:\n",
        "      index = 1\n",
        "      for value in sq1[column][1:]:\n",
        "        if float(value) <= Threshold:\n",
        "          sq1.iloc[index,col] = 'Short'\n",
        "        elif ((float(value) > Threshold) & (float(value) <= 20)):\n",
        "          sq1.iloc[index,col] = 'Medium'\n",
        "        else:\n",
        "          sq1.iloc[index,col] = 'Long'\n",
        "        index += 1\n",
        "      col += 1\n",
        "\n",
        "     #save the file to a directory\n",
        "     sq1.to_csv('/content/RNADataClasses/{}'.format(filename))\n",
        "     counter += 1\n",
        "     print(ll-counter)"
      ],
      "execution_count": null,
      "outputs": []
    },
    {
      "cell_type": "code",
      "metadata": {
        "id": "UCHbtnZ4KvTu"
      },
      "source": [
        "#doing the necessary preprocessing steps to clean up data \n",
        "directory_in_str = '/content/data'\n",
        "directory = os.fsencode(directory_in_str)\n",
        "counter = 404\n",
        "for file in os.listdir(directory)[404:]:\n",
        "     filename = os.fsdecode(file)\n",
        "     sq1 = pd.read_csv('/content/data/{}'.format(filename))\n",
        "     sq1 = sq1.applymap(lambda x: x.strip() if isinstance(x, str) else x)\n",
        "\n",
        "     #extract rna and amino acids sequences to be compared and delete unnecessary data\n",
        "     acidcount = 3\n",
        "     rnacount = 3\n",
        "     rows, coloumns = sq1.shape\n",
        "     A_ACIDS = (sq1['Unnamed: 1'][3: rows+1]).astype(str)\n",
        "     RNAS = (sq1.iloc[0,:][3: coloumns+1]).astype(str)\n",
        "     \n",
        "     #delete coloumns and rows for non-RNA bases and non-aminoacid groups\n",
        "     for a in A_ACIDS:\n",
        "      if str(a).strip() not in str(aminoacid):\n",
        "        sq1.drop([acidcount],inplace=True)\n",
        "      acidcount += 1\n",
        "\n",
        "     for b in RNAS:\n",
        "      if str(b).strip() not in str(RNA):\n",
        "        sq1.drop(sq1.columns[rnacount], axis='columns', inplace= True)\n",
        "        rnacount -=1\n",
        "      rnacount += 1\n",
        "\n",
        "     #combine sequences with their complementary groups , reset indices\n",
        "     sq1['Unnamed: 1'] = sq1['Unnamed: 1'] +'_'+sq1['Unnamed: 2']\n",
        "     sq1.loc[0,:] = sq1.loc[0,:] + sq1.loc[1,:]\n",
        "     sq1.loc[0,:] = sq1.loc[0,:].str.replace(\"'\",'#')\n",
        "     sq1 = sq1.drop(columns=['Unnamed: 2','3'])\n",
        "     sq1 = sq1.drop([1,2])\n",
        "     sq1.reset_index(drop=True, inplace=True) \n",
        "\n",
        "     #convert distances to 1's for smaller than threshold distance and 0's for bigger than threshold distances\n",
        "     col = 1\n",
        "     for column in sq1.columns[1:]:\n",
        "      index = 1\n",
        "      for value in sq1[column][1:]:\n",
        "        if float(value) <= Threshold:\n",
        "          sq1.iloc[index,col] = 'Short'\n",
        "        elif ((float(value) > Threshold) & (float(value) <= 20)):\n",
        "          sq1.iloc[index,col] = 'Medium'\n",
        "        else:\n",
        "          sq1.iloc[index,col] = 'Long'\n",
        "        index += 1\n",
        "      col += 1\n",
        "\n",
        "     #save the file to a directory\n",
        "     sq1.to_csv('/content/RNADataClasses/{}'.format(filename))\n",
        "     counter += 1\n",
        "     print(ll-counter)"
      ],
      "execution_count": null,
      "outputs": []
    },
    {
      "cell_type": "code",
      "metadata": {
        "id": "uBj2su8FkyB7"
      },
      "source": [
        "!cp -r /content/RNADataClasses /content/drive/MyDrive/work/RNA"
      ],
      "execution_count": null,
      "outputs": []
    },
    {
      "cell_type": "code",
      "metadata": {
        "id": "PyObzUVQUiYE"
      },
      "source": [
        "!mv /content/data/2xd0AG.csv /content/problems"
      ],
      "execution_count": null,
      "outputs": []
    },
    {
      "cell_type": "code",
      "metadata": {
        "id": "pA_Llo730p60"
      },
      "source": [
        ""
      ],
      "execution_count": null,
      "outputs": []
    }
  ]
}